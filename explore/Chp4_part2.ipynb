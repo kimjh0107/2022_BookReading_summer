{
 "cells": [
  {
   "cell_type": "markdown",
   "metadata": {},
   "source": [
    "데이터가 단순하고 모델이 복잡해지면 학습을 하면서 굉장히 작은 값들이었던 weight들의 값이 점점 증가하게 되면서 overfitting이 발생하게 됨. weight 값이 커지면서 train data에 영향을 많이 받게되고, train set에 모델이 딱 맞춰지게 됨. \n",
    "그래서 이러한 문제를 방지하기 위한 방법들 중 하나가 'weight decay' \n",
    "\n",
    "weight decay는 weight들이 증가하는 것을 제한해서, 모델의 복잡도를 감소시킴으로 제한하는 방법으로 weight를 decay한다라는 것. \n",
    "\n",
    "image.png\n",
    "\n"
   ]
  },
  {
   "cell_type": "code",
   "execution_count": null,
   "metadata": {},
   "outputs": [],
   "source": []
  }
 ],
 "metadata": {
  "language_info": {
   "name": "python"
  },
  "orig_nbformat": 4
 },
 "nbformat": 4,
 "nbformat_minor": 2
}
