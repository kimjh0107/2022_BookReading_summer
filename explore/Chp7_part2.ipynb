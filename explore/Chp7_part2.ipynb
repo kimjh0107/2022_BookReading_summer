{
  "cells": [
    {
      "cell_type": "markdown",
      "metadata": {
        "id": "8bPExj2gJzwu"
      },
      "source": [
        "# [Book Reading Chapter7 Part2]\n",
        "\n",
        "> [7.4 GooLeNet]\n",
        "\n",
        "> [7.5 BatchNormalization]\n",
        "\n",
        "> [7.6 ResNet]\n",
        "\n",
        "> [7.7 DenseNet]\n"
      ]
    },
    {
      "cell_type": "markdown",
      "metadata": {
        "id": "GHXnLX7naJ7V"
      },
      "source": [
        "## Setting"
      ]
    },
    {
      "cell_type": "markdown",
      "metadata": {},
      "source": []
    },
    {
      "cell_type": "markdown",
      "metadata": {
        "id": "e-EmKKLHaNeI"
      },
      "source": [
        "### 1) Import Modules"
      ]
    },
    {
      "cell_type": "code",
      "execution_count": null,
      "metadata": {
        "id": "26mxLKaDaJD4"
      },
      "outputs": [],
      "source": [
        "# PyTorch Modeling\n",
        "import torch\n",
        "from torch import nn\n",
        "from torch.nn import functional as F\n",
        "from torch import optim\n",
        "\n",
        "# Data Loading\n",
        "from torch.utils.data import DataLoader\n",
        "import torchvision\n",
        "from torchvision import transforms\n",
        "\n",
        "# Reproducibility\n",
        "import random\n",
        "import numpy as np\n",
        "\n",
        "# Draw plot\n",
        "%matplotlib inline\n",
        "import matplotlib.pyplot as plt\n",
        "import pylab as pl\n",
        "from IPython import display\n",
        "\n",
        "# Others\n",
        "import sys"
      ]
    },
    {
      "cell_type": "markdown",
      "metadata": {
        "id": "9bC_UHfhaQdk"
      },
      "source": [
        "### 2) Set Seed for reproducibility\n",
        "https://pytorch.org/docs/stable/notes/randomness.html"
      ]
    },
    {
      "cell_type": "code",
      "execution_count": null,
      "metadata": {
        "id": "QoEIbzHqaQCi"
      },
      "outputs": [],
      "source": [
        "torch.manual_seed(0)\n",
        "random.seed(0)\n",
        "np.random.seed(0)\n",
        "# torch.use_deterministic_algorithms(True)"
      ]
    },
    {
      "cell_type": "markdown",
      "metadata": {
        "id": "uKS_TMTfa44F"
      },
      "source": [
        "### 3) Download Data\n",
        "https://github.com/d2l-ai/d2l-en/blob/master/d2l/torch.py"
      ]
    },
    {
      "cell_type": "code",
      "execution_count": null,
      "metadata": {
        "id": "C7y4cqcXa-ub"
      },
      "outputs": [],
      "source": [
        "def load_data_fashion_mnist(batch_size, image_size) -> dict :\n",
        "    \"\"\"\n",
        "    Dive Into Deeplearning Github에 공개된 데이터 다운로드 코드를 변형\n",
        "    Fashion MNIST 데이터를 './data' 경로에 다운로드하여 DataLoader로 반환 \n",
        "    \"\"\" \n",
        "    trans = transforms.Compose([transforms.Resize(image_size),                  # 이미지를 96으로 Resize 후\n",
        "                                transforms.ToTensor()])                         # Tensor로 바꿔주기 위한 세팅\n",
        "\n",
        "    mnist_train = torchvision.datasets.FashionMNIST(                            # TorchVision에 있는 Fashion MNIST 데이터 로딩\n",
        "        root=\"./data\", train=True, transform=trans, download=True)              # ../data에 Transform을 적용한 채 Train 데이터 다운\n",
        "    \n",
        "    mnist_test = torchvision.datasets.FashionMNIST(\n",
        "        root=\"./data\", train=False, transform=trans, download=True)             # ../data에 Transform을 적용한 채 Test  데이터 다운\n",
        "    \n",
        "    return {\n",
        "            'train' : DataLoader(mnist_train, batch_size, shuffle=True),        # DataLoader 형태로 반환 (Train은 Shuffle O)\n",
        "            'test'  : DataLoader(mnist_test, batch_size, shuffle=False)         # DataLoader 형태로 반환 (Test는  Shuffle X)\n",
        "            }"
      ]
    },
    {
      "cell_type": "markdown",
      "metadata": {
        "id": "JI9Id9W3iwjF"
      },
      "source": [
        "### 4) Default Variables for Training"
      ]
    },
    {
      "cell_type": "code",
      "execution_count": null,
      "metadata": {
        "id": "nh-LH0IMiwFt"
      },
      "outputs": [],
      "source": [
        "# Dataloaders\n",
        "dataloaders = load_data_fashion_mnist(256, 96) # Batch_size, image_size\n",
        "dataloaders2 = load_data_fashion_mnist(256, 28) # for LeNet + Batch Normalization\n",
        "\n",
        "# Device Setting\n",
        "device = 'cuda:0' if torch.cuda.is_available() else 'cpu'"
      ]
    },
    {
      "cell_type": "markdown",
      "metadata": {
        "id": "Iu3liLgYaoI0"
      },
      "source": [
        "### 4) Code for Training Model"
      ]
    },
    {
      "cell_type": "code",
      "execution_count": null,
      "metadata": {
        "id": "kMMCJQC-anlm"
      },
      "outputs": [],
      "source": [
        "def Chapter7_Training(\n",
        "                      model, \n",
        "                      dataloaders,\n",
        "                      criterion,\n",
        "                      optimizer,\n",
        "                      num_epochs : int\n",
        "                      ) -> None : \n",
        "    \n",
        "    train_accuracy = 0                                                          # Train Accuracy\n",
        "    train_loss = 0                                                              # Train Loss\n",
        "    train_losses = []                                                           # Logging Train Losses\n",
        "    test_accuracy = 0                                                           # Test Accuracy\n",
        "    test_loss = 0                                                               # Test Loss\n",
        "    test_losses = []                                                            # Logging Test  Losses\n",
        "\n",
        "\n",
        "    for num_epoch in range(num_epochs) :                                        # 주어진 Epoch 동안\n",
        "        for phase in ['train', 'test'] :                                        # Train phase인지, Test phase인지를 판단하여\n",
        "            if phase == 'train' :                                               # Train phase이면\n",
        "                model.train()                                                   # model.train()으로 전환 => Batch Normalization 등의 상태를 전환\n",
        "            else :                                                              # Test  phase이면\n",
        "                model.eval()                                                    # model.eval()로 전환\n",
        "            \n",
        "            running_accuracy = 0                                                # Epoch에서의 Accuracy를 계산하기 위한 변수\n",
        "            running_loss = 0                                                    # Epoch에서의 Loss를 계산하기 위한 변수\n",
        "            \n",
        "            for X, y in dataloaders.get(phase) :                                # dataloaders에서 phase에 맞게 dataloader를 가져오고, 이를 이용하여 X와 y를 batch 단위로 추출\n",
        "                X = X.to(device)                                                # X를 주어진 device에 올림\n",
        "                y = y.to(device)                                                # y를 주어진 device에 올림\n",
        "                optimizer.zero_grad()                                           # 모델의 매개변수의 변화도를 0으로 만듦 -> optimizer는 누적되는 특성이 있어 적용해줘야 함\n",
        "\n",
        "                with torch.set_grad_enabled(phase == 'train') :                 # Gradient 계산 여부 (계산하지 않으면 속도의 향상이 있으므로, validation과 test를 검증할 때는 적용하는 것이 좋다)\n",
        "                    output = model(X)                                           # model의 결과\n",
        "                    loss = criterion(output, y)                                 # loss function (ex : CrossEntropyLoss)를 이용하여 loss 계산\n",
        "\n",
        "                    if phase == 'train':                                        # train phase일 경우,\n",
        "                        loss.backward()                                         # 역전파 : 모델의 매개변수의 loss의 변화 계산\n",
        "                        optimizer.step()                                        # 매개변수 갱신\n",
        "\n",
        "                running_accuracy += (output.argmax(1)==y).sum().item()          # 확률 값이 제일 큰 값과 실제 값이 같은 수를 더해줌\n",
        "                running_loss += loss.item()                                     # loss를 더해줌\n",
        "                \n",
        "\n",
        "            epoch_accuracy = running_accuracy / len(dataloaders.get(phase).dataset) # Epoch가 끝나면, dataset의 크기로 나누어, Accuracy 계산 (맞춘 개수 / 전체 개수)\n",
        "            epoch_loss = running_loss / len(dataloaders.get(phase).dataset)     # Epoch가 끝나면, 평균 Loss를 계산\n",
        "\n",
        "\n",
        "            if phase == 'train' :                                               # Train Phase이면,\n",
        "                train_accuracy = epoch_accuracy * 100                           # Train Accuracy 갱신\n",
        "                train_loss = epoch_loss                                         # Train Loss 갱신\n",
        "                train_losses.append(train_loss)                                 # Train Loss 기록\n",
        "\n",
        "            else :                                                              # Test Phase이면\n",
        "                test_accuracy =  epoch_accuracy * 100                           # Test Accuracy 갱신\n",
        "                test_loss = epoch_loss                                          # Test Loss 갱신\n",
        "                test_losses.append(test_loss)                                   # Test Loss 기록\n",
        "\n",
        "            pl.plot(train_losses, c = 'r', marker = 'o')                        # Train Loss는 Red 선으로 그리며, Loss의 좌표에는 'o' 마커로 표시\n",
        "            pl.plot(test_losses, c= 'b', marker = 'o')                          # Test  Loss는 Blue선으로 그리며, Loss의 좌표에는 'o' 마커로 표시\n",
        "            display.clear_output(wait=True)                                     # display 되어있는 Output을 지움\n",
        "            display.display(pl.gcf())                                           # plot을 지움\n",
        "\n",
        "            sys.stdout.write(\"\\r[EPOCH %d/%d] [Train Loss : %f] [Train Accuracy : %f] [Test  Loss : %f] [Test  Accuracy : %f]\"\n",
        "                  % (\n",
        "                      num_epoch + 1,\n",
        "                      num_epochs,\n",
        "                      train_loss,\n",
        "                      train_accuracy,\n",
        "                      test_loss,\n",
        "                      test_accuracy                                             # sys.stdout.write를 활용하여 같은 위치에 숫자만 변경하며 출력\n",
        "                    )\n",
        "                  )\n",
        "\n",
        "    return model\n"
      ]
    },
    {
      "cell_type": "markdown",
      "metadata": {
        "id": "MuE4qP6wflZU"
      },
      "source": [
        "### 5) Weight Initialization"
      ]
    },
    {
      "cell_type": "code",
      "execution_count": null,
      "metadata": {
        "id": "3g6ushEWflZU"
      },
      "outputs": [],
      "source": [
        "def initialize_weights(model):\n",
        "    # track all layers\n",
        "    for m in model.modules():                                                   # 모델의 모듈들에 대하여\n",
        "\n",
        "        if isinstance(m, nn.Conv2d):                                            # Conv2d이면 \n",
        "            nn.init.xavier_normal_(m.weight)                                    # 모델의 weight는 Xaiver Initialization\n",
        "            if m.bias is not None:                                              # 모델의 bias는 \n",
        "                nn.init.constant_(m.bias, 0)                                    # 0으로 고정\n",
        "\n",
        "        elif isinstance(m, nn.BatchNorm2d):                                     # BatchNormlization이면\n",
        "            nn.init.constant_(m.weight, 1)                                      # weight는 1    \n",
        "            nn.init.constant_(m.bias, 0)                                        # bias는 0으로 고정\n",
        "\n",
        "        elif isinstance(m, nn.Linear):                                          # Linear 모델이면\n",
        "            nn.init.xavier_normal_(m.weight)                                    # 모델의 weight는 Xaiver Intialization\n",
        "            nn.init.constant_(m.bias, 0)                                        # 모델의 bias는 0으로 고정\n",
        "    return model"
      ]
    },
    {
      "cell_type": "markdown",
      "metadata": {
        "id": "KL3xhjtHJ2Va"
      },
      "source": [
        "# 7.4 GoogLeNet (2014.09 on arxiv)"
      ]
    },
    {
      "cell_type": "markdown",
      "metadata": {
        "id": "mciaqKRhLfPt"
      },
      "source": [
        "### 1) Introduction"
      ]
    },
    {
      "cell_type": "markdown",
      "metadata": {
        "id": "pNGP94xgLgXw"
      },
      "source": [
        "- 2014 ImageNet Challenge Winner\n",
        "- Combined NiN + More Repeated Blocks\n",
        "> 1.Inception Blocks<br>2.Deeper Architecture"
      ]
    },
    {
      "cell_type": "markdown",
      "metadata": {
        "id": "cJehQYzHMSbd"
      },
      "source": [
        "### 2) Inception Blocks\n",
        "<img src='https://raw.githubusercontent.com/JayHong99/2022_Summer_BookReading/master/Chapter7/Images/Inception_Block.png?raw=true' width='600'>\n",
        "\n",
        "- Inception \"We need to go deeper\"에서 차용\n",
        "- 4가지 평행 구조의 Layer\n",
        "> (1x1 Conv)<br>(1x1 Conv) -> (3x3 Conv, pad1)<br> (1x1 Conv) -> (5x5 Conv, pad2)<br> (3x3 MaxPool, pad 1) -> (1x1 Conv)\n",
        "\n",
        "\b특징\n",
        "- 1x1 Conv 사용 -> Channel의 수 감소 (= 모델 복잡도 감소)\n",
        "- 다양한 Filter Size -> 이미지를 다양하게 탐색\n",
        "- 이미지의 크기는 input과 output 동일"
      ]
    },
    {
      "cell_type": "markdown",
      "metadata": {
        "id": "uDKWtGfDRW8A"
      },
      "source": [
        "### 3) Deeper Architecture\n",
        "\n",
        "![GooLeNet Architecture](https://d2l.ai/_images/inception-full.svg)\n",
        "\n",
        "- 이전 모델인 NiN은 4개의 Block을 사용\n",
        "- VGG11도 5개의 Block 사용\n",
        "- GooLeNet은 총 9개의 Inception Block 사용\n",
        "\n",
        "결과적으로, 계산의 비용이 증가하고, 변형이 쉽지 않음"
      ]
    },
    {
      "cell_type": "markdown",
      "metadata": {
        "id": "av_5wCMnSVIK"
      },
      "source": [
        "### 4) Implement with PyTorch"
      ]
    },
    {
      "cell_type": "markdown",
      "metadata": {
        "id": "PsLRpvH-U6YB"
      },
      "source": [
        "**<Inception Block 구현>**"
      ]
    },
    {
      "cell_type": "code",
      "execution_count": null,
      "metadata": {
        "id": "Ih05kH92JzMZ"
      },
      "outputs": [],
      "source": [
        "class Inception(nn.Module) : \n",
        "    \"\"\"\n",
        "    c1, c2, c3, c4는 개별 path에서 Output Channel의 수 이다.\n",
        "    \"\"\"\n",
        "    def __init__(self, in_channels, c1 : int, c2 : list, c3 : int, c4 : int, **kwargs) -> None: \n",
        "        super(Inception, self).__init__(**kwargs)\n",
        "        \"\"\" 1번 경로 \"\"\"\n",
        "        self.p1_1 = nn.Conv2d(in_channels, c1, kernel_size = 1)\n",
        "\n",
        "        \"\"\" 2번 경로 \"\"\"\n",
        "        self.p2_1 = nn.Conv2d(in_channels, c2[0], kernel_size = 1)\n",
        "        self.p2_2 = nn.Conv2d(c2[0], c2[1], kernel_size = 3, padding = 1)\n",
        "\n",
        "        \"\"\" 3번 경로 \"\"\"\n",
        "        self.p3_1 = nn.Conv2d(in_channels, c3[0], kernel_size = 1)\n",
        "        self.p3_2 = nn.Conv2d(c3[0], c3[1], kernel_size = 5, padding = 2)\n",
        "\n",
        "        \"\"\" 4번 경로 \"\"\"\n",
        "        self.p4_1 = nn.MaxPool2d(kernel_size = 3, stride = 1, padding = 1)\n",
        "        self.p4_2 = nn.Conv2d(in_channels, c4, kernel_size = 1)\n",
        "\n",
        "    def forward(self, x : torch.FloatTensor) -> torch.Tensor :\n",
        "        p1 = F.relu(self.p1_1(x))                     # 1x1 Conv\n",
        "        p2 = F.relu(self.p2_2(F.relu(self.p2_1(x))))  # 1x1 Conv -> ReLU -> 3x3 Conv -> ReLU\n",
        "        p3 = F.relu(self.p3_2(F.relu(self.p3_1(x))))  # 1x1 Conv -> ReLU -> 3x3 Conv -> ReLU\n",
        "        p4 = F.relu(self.p4_2(self.p4_1(x)))          # 3x3 MaxPool -> 1x1 Conv\n",
        "        return torch.cat((p1, p2, p3, p4), dim = 1)   # 이미지의 크기는 모두 동일하니, channel의 방향으로 Concatenate"
      ]
    },
    {
      "cell_type": "markdown",
      "metadata": {
        "id": "M_tCzzt_VGh5"
      },
      "source": [
        "**<GooLeNet 구현>**"
      ]
    },
    {
      "cell_type": "code",
      "execution_count": null,
      "metadata": {
        "id": "t_pDeDPmU5gN"
      },
      "outputs": [],
      "source": [
        "b1 = nn.Sequential(nn.Conv2d(1, 64, kernel_size = 7, stride = 2, padding = 3),  # Kernel 7 with Stride 2 and padding 3 => 이미지 사이즈 절반 (64, 48,48)\n",
        "                   nn.ReLU(), \n",
        "                   nn.MaxPool2d(kernel_size =  3, stride = 2, padding = 1))     # Kernel 3 with Stride 2 and Padding 1 => 이미지 사이즈 절반 (64, 24,24)\n",
        "\n",
        "\n",
        "b2 = nn.Sequential(nn.Conv2d(64, 64, kernel_size = 1),                          # 1x1 Conv => (64, 24, 24)\n",
        "                   nn.ReLU(),\n",
        "                   nn.Conv2d(64, 192, kernel_size = 3, padding = 1),            # Kernel 3 with Padding 1 => 이미지 사이즈 동일 (192, 24,24)\n",
        "                   nn.ReLU(),\n",
        "                   nn.MaxPool2d(kernel_size = 3, stride = 2, padding = 1))      # Kernel 3 with Stride 2 and Padding 1 => 이미지 사이즈 절반 (192, 24,24)\n",
        "\n",
        "\n",
        "b3 = nn.Sequential(Inception(192, 64, (96, 128), (16,32), 32),                  # Inception Block (192 => 64 + 128 + 32 + 32 = 256) => 이미지 사이즈 동일 (256, 12, 12)\n",
        "                   Inception(256, 128, (128,192), (32, 96), 64),                # Inception Block (256 => 128 + 192 + 96 + 64 = 480) => 이미지 사이즈 동일 (480, 12, 12)\n",
        "                   nn.MaxPool2d(kernel_size = 3, stride = 2, padding = 1))      # Kernel 3 with Stride 2 and Padding 1 => 이미지 사이즈 절반 (480, 6, 6)\n",
        "\n",
        "\n",
        "b4 = nn.Sequential(Inception(480, 192, (96, 208), (16, 48), 64),                # Inception Block (480 => 192 + 208 + 48 + 64 = 512) => 이미지 사이즈 동일 (512, 48, 48)\n",
        "                   Inception(512, 160, (112, 224), (24, 64), 64),               # Inception Block (512 => 160 + 224 + 64 + 64 = 512) => 이미지 사이즈 동일 (512, 6, 6)\n",
        "                   Inception(512, 128, (128, 256), (24, 64), 64),               # Inception Block (512 => 128 + 256 + 64 + 64 = 256) => 이미지 사이즈 동일 (512, 6, 6)\n",
        "                   Inception(512, 112, (144, 288), (32, 64), 64),               # Inception Block (512 => 112 + 288 + 64 + 64 = 528) => 이미지 사이즈 동일 (528, 6, 6)\n",
        "                   Inception(528, 256, (160, 320), (32, 128), 128),             # Inception Block (528 => 256 + 320 + 128 + 128 = 256) => 이미지 사이즈 동일 (832, 6, 6)\n",
        "                   nn.MaxPool2d(kernel_size=3, stride=2, padding=1))            # Kernel 3 with Stride 2 and Padding 1 => 이미지 사이즈 절반 (832, 3, 3)\n",
        "\n",
        "\n",
        "b5 = nn.Sequential(Inception(832, 256, (160, 320), (32, 128), 128),             # Inception Block (832 => 256 + 320 + 128 + 128 = 832) => 이미지 사이즈 동일 (832, 3, 3)\n",
        "                   Inception(832, 384, (192, 384), (48, 128), 128),             # Inception Block (832 => 384 + 384 + 128 + 128 = 1024) => 이미지 사이즈 동일 (1024, 3, 3)\n",
        "                   nn.AdaptiveAvgPool2d((1,1)),                                 # Adaptive AvgPool2d는 Image의 Output을 자동으로 맞추어 Pooling하는 Layer => (1024,1,1)\n",
        "                   nn.Flatten())                                                # Flatten => (1024)\n",
        "\n",
        "GooLeNet = nn.Sequential(b1, b2, b3, b4, b5, nn.Linear(1024, 10))               # FC는 단층으로, output = 10"
      ]
    },
    {
      "cell_type": "markdown",
      "metadata": {
        "id": "tyc2FjC0Ymr1"
      },
      "source": [
        "**<맞게 구축했는지 파악>**"
      ]
    },
    {
      "cell_type": "code",
      "execution_count": null,
      "metadata": {
        "colab": {
          "base_uri": "https://localhost:8080/"
        },
        "id": "6hfbILS9YiBc",
        "outputId": "7d592843-8388-4f4a-82f0-222cc059550c"
      },
      "outputs": [
        {
          "name": "stdout",
          "output_type": "stream",
          "text": [
            "Sequential output shape:\t torch.Size([1, 64, 24, 24])\n",
            "Sequential output shape:\t torch.Size([1, 192, 12, 12])\n",
            "Sequential output shape:\t torch.Size([1, 480, 6, 6])\n",
            "Sequential output shape:\t torch.Size([1, 832, 3, 3])\n",
            "Sequential output shape:\t torch.Size([1, 1024])\n",
            "Linear output shape:\t torch.Size([1, 10])\n"
          ]
        }
      ],
      "source": [
        "X = torch.rand(size=(1, 1, 96, 96))\n",
        "for layer in GooLeNet:\n",
        "    X = layer(X)\n",
        "    print(layer.__class__.__name__,'output shape:\\t', X.shape)"
      ]
    },
    {
      "cell_type": "markdown",
      "metadata": {
        "id": "SFk4hKEjZ-Lf"
      },
      "source": [
        "### 5) Training with PyTorch"
      ]
    },
    {
      "cell_type": "code",
      "execution_count": null,
      "metadata": {
        "colab": {
          "base_uri": "https://localhost:8080/",
          "height": 530
        },
        "id": "LZ3hb6b6Z0g_",
        "outputId": "17e0289b-02ec-43f7-fc54-ecf7acb489a0"
      },
      "outputs": [
        {
          "data": {
            "image/png": "[encoded data removed]",
            "text/plain": [
              "<Figure size 432x288 with 1 Axes>"
            ]
          },
          "metadata": {},
          "output_type": "display_data"
        },
        {
          "name": "stdout",
          "output_type": "stream",
          "text": [
            "\r[EPOCH 10/10] [Train Loss : 0.001678] [Train Accuracy : 84.095000] [Test  Loss : 0.001594] [Test  Accuracy : 84.980000]"
          ]
        },
        {
          "data": {
            "image/png": "[encoded data removed]",
            "text/plain": [
              "<Figure size 432x288 with 1 Axes>"
            ]
          },
          "metadata": {
            "needs_background": "light"
          },
          "output_type": "display_data"
        }
      ],
      "source": [
        "model = nn.Sequential(b1, b2, b3, b4, b5, nn.Linear(1024, 10)).to(device)\n",
        "model = initialize_weights(model)\n",
        "\n",
        "num_epochs = 10\n",
        "learning_rate = 0.1\n",
        "optimizer = optim.SGD(model.parameters(), lr = learning_rate)\n",
        "criterion = nn.CrossEntropyLoss()\n",
        "\n",
        "model = Chapter7_Training(model, dataloaders, criterion, optimizer, num_epochs)"
      ]
    },
    {
      "cell_type": "markdown",
      "metadata": {
        "id": "rUt6wA0RKypJ"
      },
      "source": [
        "# 7.5 BatchNormalization"
      ]
    },
    {
      "cell_type": "markdown",
      "metadata": {
        "id": "pTXQxk-fvjQv"
      },
      "source": [
        "## 1) \u001b내용 소개"
      ]
    },
    {
      "cell_type": "markdown",
      "metadata": {
        "id": "dnaMPXZ6vsuO"
      },
      "source": [
        "#### (1) 필요성\n",
        "\n",
        "\n",
        "i) 최종 결과에 차이가 크다\n",
        "> Chapter 4에서 집 값 예측할 때 제일 먼저 했던 일이 Standard Scailing<br>평균과 std로 값을 나누어주었음\n",
        "\n",
        "ii) Internal Distribution drift\n",
        "> 내부 Layer의 Output들의 범위가 다양함<br>BatchNorm 저자들은 이 drift가 network의 수렴을 막는다고 가정\n",
        "\n",
        "> Internal Covariant Shift\n",
        "\n",
        "<img src='https://write365project.files.wordpress.com/2018/01/18671050_10155018408854584_5877734482386509886_n-1.jpg?w=629' width='300px'>\n",
        "\n",
        ">> activation(WX+b) 를 여러번 거치면, 내부 데이터의 분포가 변화<br>학습 속도의 저하, Learning Rate, Weight Initialization의 영향을 많이 받음<br>가중치 학습 불가의 상태(ex : 반복된 sigmoid로 인한 Vanishing Gradient\n",
        "\n",
        "\n",
        "\n",
        "iii) 과적합 방지\n",
        "> 모델이 복잡할 수록, Regularization은 더 중요\n",
        "\n",
        "\n",
        "\n",
        "\n",
        "\n",
        "\n"
      ]
    },
    {
      "cell_type": "markdown",
      "metadata": {
        "id": "FSy66975Eeb5"
      },
      "source": [
        "#### (2) 수식\n",
        "- 주어진 Minibatch에서 Mean & Std를 계산하여 Normalize\n",
        "- 단, BatchSize가 1일때는 유의\n",
        "- Batch Size가 충분히 클 때 효과적이고, 안정적\n",
        "\n",
        "$$ \\mathrm{BN}(\\mathbf{x}) = \\boldsymbol{\\gamma} \\odot \\frac{\\mathbf{x} - \\hat{\\boldsymbol{\\mu}}_\\mathcal{B}}{\\hat{\\boldsymbol{\\sigma}}_\\mathcal{B}} + \\boldsymbol{\\beta}. $$\n",
        "\n",
        "$$ \\mu_B : Mean$$\n",
        "$$ \\hat{\\sigma}_B : Std$$\n",
        "$$ \\gamma : scale\\space parameter$$\n",
        "$$ \\beta : shift\\space parameter $$ \n",
        "\n",
        "> gamma와 beta도 학습하는 파라미터\n",
        ">> 교재에는 적혀있지 않지만, gamma와 beta를 이용하여 원래의 모델이 표현하고자 한 것을 살려냄<br> ex) sigmoid는 -1.96~1.96 사이에서는 선형성을 나타냄 => Distribution Shift를 활용하여 비선형성으로 바꾸어준다\n",
        "\n",
        "---\n",
        "비선형성의 필요성?\n",
        "\n",
        "<img src = 'https://colah.github.io/posts/2014-03-NN-Manifolds-Topology/img/spiral.1-2.2-2-2-2-2-2.gif' width='300px'>\n",
        "\n",
        "https://github.com/JayHong99/Papers/tree/origin/Deep%20Learning%20Basic/2021.12.29%20Batch%20Normalization"
      ]
    },
    {
      "cell_type": "markdown",
      "metadata": {
        "id": "ZsPk-hGmCj-s"
      },
      "source": [
        "#### (3) 특징\n",
        "- 50~100 정도의 Batch Size가 가장 효과적\n",
        "- 학습할 때 마다 매번 결과가 달라질 수 있음 (시작 Batch와 끝 Batch도 달라질 수 있음)\n",
        "- 다만, 학습하며 전체 데이터의 mean, std를 moving average를 이용하여 저장하기에, Inference는 고정"
      ]
    },
    {
      "cell_type": "markdown",
      "metadata": {
        "id": "YGVH1fqbJ5AW"
      },
      "source": [
        "#### (4) 적용\n",
        "Fully Connected Layer\n",
        "\n",
        "$$ \\mathbf{h} = \\phi(\\mathrm{BN}(\\mathbf{W}\\mathbf{x} + \\mathbf{b}) ). $$\n",
        "\n",
        "BatchNormalize(Weight * X + bias) 이후 Activation Function 적용\n",
        "> Output에 대하여 BN을 적용하고, Activation 적용\n",
        "\n",
        "Convolutional Layers\n",
        "\n",
        "- Minibatch : m\n",
        "- height : p\n",
        "- width : q\n",
        "\n",
        "각 Channel마다 m x p x q개의 평균과 분산을 구하여 적용\n",
        "\n",
        "---\n",
        "\n",
        "Activation과 BatchNorm 순서의 반대의견\n",
        "> Activation 이후에 Batch Normalize를 해줘야 한다.<br>원하는 부분을 정확히 표현 후, 정제하는 것이 좋을 것이다.\n",
        "\n",
        "논쟁\n",
        "> 논문의 저자는 교재의 방법을 제안했으나, 실제로는 반대의견이 성능이 좋은 경우도 많음<br>따라서 여러 경우를 테스트 해보는 것을 추천...\n",
        "\n",
        "https://github.com/ducha-aiki/caffenet-benchmark/blob/master/batchnorm.md\n"
      ]
    },
    {
      "cell_type": "markdown",
      "metadata": {
        "id": "SSA97XeEObXH"
      },
      "source": [
        "#### (5) 반대 의견\n",
        "\n",
        "Batch Normalization은 optimization landscape를 더 좋게 만들 것으로 생각됨\n",
        "\n",
        "<img src='http://www.offconvex.org/assets/optimization-beyond-landscape-points.png' width = '300px'>\n",
        "\n",
        "\n",
        "> 하지만 이건 주장이지, 증명이 되지 않았으며, weight decay만으로도 충분히 좋다.\n",
        "\n",
        "\n",
        "Internal Covriant Shift\n",
        "> 학습하는 중간에, 데이터의 분포가 달라진다고 가정\n",
        ">> 비판 1 : 사실 Covariant Shift와는 무관하다<br>비판 2 : 왜 Batch Normalization이 Internal Covariant Shift를 막아주는지에 대한 증명이 안되었다.\n",
        "\n",
        "그럼에도, NIPs Test of Time Award 수상, 계속해서 연구되는 주제 등으로 성공적인 결과\n",
        "\n",
        "---\n",
        "이후 Batch Normalization의 한계를 지적하며 Google에서 Layer Normalization 발표\n",
        "\n",
        "Batch Norm은 RNN에서 부적합\n",
        "> Batch Norm은 Time-Step마다 batch 단위로 계산하고 적용해야 하지만, 만약 Test의 길이가 Train보다 길다면 적용이 불가능하다.\n",
        "\n",
        "Layer 단위로 Normalization을 적용하여, 새로운 데이터에도 크게 변하지 않고 적용 가능한 불변성을 지니게 하면, 파라미터의 변동성이 낮아 빠른 학습이 가능"
      ]
    },
    {
      "cell_type": "markdown",
      "metadata": {
        "id": "OLnILeuSJ45D"
      },
      "source": [
        "## 2) 코드"
      ]
    },
    {
      "cell_type": "markdown",
      "metadata": {
        "id": "ZfLrqYhJMqCz"
      },
      "source": [
        "#### (1) Batch Norm"
      ]
    },
    {
      "cell_type": "code",
      "execution_count": null,
      "metadata": {
        "id": "ngdpWhy6vseA"
      },
      "outputs": [],
      "source": [
        "def batch_norm(X, gamma, beta, moving_mean, moving_var, eps, momentum):\n",
        "    # Use `is_grad_enabled` to determine whether the current mode is training\n",
        "    # mode or prediction mode\n",
        "    if not torch.is_grad_enabled():                                             # TEST 상태이면,\n",
        "        X_hat = (X - moving_mean) / torch.sqrt(moving_var + eps)                # Moving AVG, VAR을 이용하여 Normalize\n",
        "    else:                                                                       # Train 상태라면,\n",
        "        assert len(X.shape) in (2, 4)                                           # 2차원 Or 4차원 Input만 구현                                           \n",
        "        if len(X.shape) == 2:                                                   # 2차원 (FC)이면\n",
        "            mean = X.mean(dim=0)                                                # Batch에 대한 평균\n",
        "            var = ((X - mean) ** 2).mean(dim=0)                                 # Batch에 대한 분산\n",
        "        else:\n",
        "            mean = X.mean(dim=(0, 2, 3), keepdim=True)                          # Channel을 제외한 나머지를 이용하여 모든 평균 계산\n",
        "            var = ((X - mean) ** 2).mean(dim=(0, 2, 3), keepdim=True)           # Channel을 제외한 나머지를 이용하여 모든 분산 계산\n",
        "        X_hat = (X - mean) / torch.sqrt(var + eps)                              # Normalize\n",
        "\n",
        "        moving_mean = momentum * moving_mean + (1.0 - momentum) * mean          # Moving Mean 업데이트\n",
        "        moving_var = momentum * moving_var + (1.0 - momentum) * var             # Mvoing Var 업데이트\n",
        "    Y = gamma * X_hat + beta                                                    # Layer의 Output은 gamma와 beta를 곱하고 더하여 반환\n",
        "    return Y, moving_mean.data, moving_var.data"
      ]
    },
    {
      "cell_type": "markdown",
      "metadata": {
        "id": "4gEWo0-3Npv-"
      },
      "source": [
        "#### (2) Class로 구현"
      ]
    },
    {
      "cell_type": "code",
      "execution_count": null,
      "metadata": {
        "id": "WHyuQNhjMumh"
      },
      "outputs": [],
      "source": [
        "class BatchNorm(nn.Module):\n",
        "    def __init__(self, num_features, num_dims):\n",
        "        super().__init__()\n",
        "        if num_dims == 2:\n",
        "            shape = (1, num_features)\n",
        "        else:\n",
        "            shape = (1, num_features, 1, 1)\n",
        "        self.gamma = nn.Parameter(torch.ones(shape))\n",
        "        self.beta = nn.Parameter(torch.zeros(shape))\n",
        "        self.moving_mean = torch.zeros(shape)\n",
        "        self.moving_var = torch.ones(shape)\n",
        "\n",
        "    def forward(self, X):\n",
        "        if self.moving_mean.device != X.device:\n",
        "            self.moving_mean = self.moving_mean.to(X.device)\n",
        "            self.moving_var = self.moving_var.to(X.device)\n",
        "        Y, self.moving_mean, self.moving_var = batch_norm(\n",
        "            X, self.gamma, self.beta, self.moving_mean,\n",
        "            self.moving_var, eps=1e-5, momentum=0.9)\n",
        "        return Y"
      ]
    },
    {
      "cell_type": "markdown",
      "metadata": {
        "id": "t2-c-Pg6NsXC"
      },
      "source": [
        "#### (3) LeNet에 적용하여 학습"
      ]
    },
    {
      "cell_type": "code",
      "execution_count": null,
      "metadata": {
        "colab": {
          "base_uri": "https://localhost:8080/",
          "height": 530
        },
        "id": "O2qBi7DxNnwg",
        "outputId": "eed03a0b-4337-41e2-87cc-4c6068ead10e"
      },
      "outputs": [
        {
          "data": {
            "image/png": "[encoded data removed]",
            "text/plain": [
              "<Figure size 432x288 with 1 Axes>"
            ]
          },
          "metadata": {},
          "output_type": "display_data"
        },
        {
          "name": "stdout",
          "output_type": "stream",
          "text": [
            "\r[EPOCH 10/10] [Train Loss : 0.001347] [Train Accuracy : 87.911667] [Test  Loss : 0.001673] [Test  Accuracy : 85.010000]"
          ]
        },
        {
          "data": {
            "image/png": "[encoded data removed]",
            "text/plain": [
              "<Figure size 432x288 with 1 Axes>"
            ]
          },
          "metadata": {
            "needs_background": "light"
          },
          "output_type": "display_data"
        }
      ],
      "source": [
        "model = nn.Sequential(\n",
        "    nn.Conv2d(1, 6, kernel_size=5), BatchNorm(6, num_dims=4), nn.Sigmoid(),\n",
        "    nn.AvgPool2d(kernel_size=2, stride=2),\n",
        "    nn.Conv2d(6, 16, kernel_size=5), BatchNorm(16, num_dims=4), nn.Sigmoid(),\n",
        "    nn.AvgPool2d(kernel_size=2, stride=2), nn.Flatten(),\n",
        "    nn.Linear(16*4*4, 120), BatchNorm(120, num_dims=2), nn.Sigmoid(),\n",
        "    nn.Linear(120, 84), BatchNorm(84, num_dims=2), nn.Sigmoid(),\n",
        "    nn.Linear(84, 10)).to(device)\n",
        "\n",
        "model = initialize_weights(model)\n",
        "\n",
        "num_epochs = 10\n",
        "learning_rate = 0.1\n",
        "optimizer = optim.SGD(model.parameters(), lr = learning_rate)\n",
        "criterion = nn.CrossEntropyLoss()\n",
        "\n",
        "model = Chapter7_Training(model, dataloaders2, criterion, optimizer, num_epochs)"
      ]
    },
    {
      "cell_type": "markdown",
      "metadata": {
        "id": "_B8q6AumOQFV"
      },
      "source": [
        "#### (4) Pytorch 내장 모듈로 활용"
      ]
    },
    {
      "cell_type": "code",
      "execution_count": null,
      "metadata": {
        "colab": {
          "base_uri": "https://localhost:8080/",
          "height": 530
        },
        "id": "oyDdOsDbOPVw",
        "outputId": "4a3173a6-0c5d-4a19-9b04-98a7b2b47712"
      },
      "outputs": [
        {
          "data": {
            "image/png": "[encoded data removed]",
            "text/plain": [
              "<Figure size 432x288 with 1 Axes>"
            ]
          },
          "metadata": {},
          "output_type": "display_data"
        },
        {
          "name": "stdout",
          "output_type": "stream",
          "text": [
            "\r[EPOCH 10/10] [Train Loss : 0.001352] [Train Accuracy : 87.885000] [Test  Loss : 0.001845] [Test  Accuracy : 83.400000]"
          ]
        },
        {
          "data": {
            "image/png": "[encoded data removed]",
            "text/plain": [
              "<Figure size 432x288 with 1 Axes>"
            ]
          },
          "metadata": {
            "needs_background": "light"
          },
          "output_type": "display_data"
        }
      ],
      "source": [
        "model = nn.Sequential(\n",
        "    nn.Conv2d(1, 6, kernel_size=5), nn.BatchNorm2d(6), nn.Sigmoid(),\n",
        "    nn.AvgPool2d(kernel_size=2, stride=2),\n",
        "    nn.Conv2d(6, 16, kernel_size=5), nn.BatchNorm2d(16), nn.Sigmoid(),\n",
        "    nn.AvgPool2d(kernel_size=2, stride=2), nn.Flatten(),\n",
        "    nn.Linear(256, 120), nn.BatchNorm1d(120), nn.Sigmoid(),\n",
        "    nn.Linear(120, 84), nn.BatchNorm1d(84), nn.Sigmoid(),\n",
        "    nn.Linear(84, 10)).to(device)\n",
        "\n",
        "\n",
        "model = initialize_weights(model)\n",
        "\n",
        "num_epochs = 10\n",
        "learning_rate = 0.1\n",
        "optimizer = optim.SGD(model.parameters(), lr = learning_rate)\n",
        "criterion = nn.CrossEntropyLoss()\n",
        "\n",
        "model = Chapter7_Training(model, dataloaders2, criterion, optimizer, num_epochs)"
      ]
    },
    {
      "cell_type": "markdown",
      "metadata": {
        "id": "-vIBxki5K0eq"
      },
      "source": [
        "# 7.6 ResNet (2015.12 on Arxiv)\n",
        "2015 ILSVR Winner"
      ]
    },
    {
      "cell_type": "markdown",
      "metadata": {
        "id": "FGwd03gbSYD0"
      },
      "source": [
        "## 1) 함수 Class\n",
        "\n",
        "<img src = 'https://d2l.ai/_images/functionclasses.svg' width = '800px'>\n",
        "\n",
        "\n",
        "$$ f^*_\\mathcal{F} \\stackrel{\\mathrm{def}}{=} \\mathop{\\mathrm{argmin}}_f L(\\mathbf{X}, \\mathbf{y}, f) \\text{ subject to } f \\in \\mathcal{F}. $$\n",
        "\n",
        "학습의 목적 : Weight와 Bias가 포함된 함수 f를 수정하여, loss를 최소화\n",
        "\n",
        "f를 포함하는 함수 F보다 더 효과적이고 강력한 F'이 있다고 하자.\n",
        "\n",
        "왼쪽의 이미지 :  f1을 포함하는 F1보다 더 나은 F2가 F1을 포함한다는 보장이 없음\n",
        "\n",
        "오른쪽의 이미지 : f1을 포함하는 F1보다 더 나은 F2는 F1을 포함\n",
        "\n",
        "따라서 딥러닝에서는, 새로 추가하는 Layer가 f(x) = x를 만족한다면, 새로운 모델이 기존 모델보다 좋거나 같을 것이다.\n"
      ]
    },
    {
      "cell_type": "markdown",
      "metadata": {
        "id": "8o6Qz9cUTOmi"
      },
      "source": [
        "## 2) Residual Blocks\n",
        "<img src = 'https://d2l.ai/_images/residual-block.svg' width = '500px'>\n",
        "\n",
        "Residual Block은, f(x) - x = 0이 될 가능성을 열어둠\n",
        "\n",
        "만약 f(x) = x라면, Identity Mapping이 됨\n",
        "> 모델은 f(x) - x를 학습<br>실제로 Identity Matrix라면, weight와 bias를 위의 layer로 weight를 전달할 수 있음<br>즉, 해당 layer에서는 학습하지 않아도 괜찮음\n",
        "\n",
        "\n",
        "Residual Connection\n",
        "\n",
        "> x를 residual block의 output에 add하여 보내줌\n",
        "\n",
        "---\n",
        "Residual Block이 효과적인 이유\n",
        "> 모델이 깊어지면 Exploding Gradient나 Vanishing Gradient가 발생합니다..<br>기존의 구조는 이전 Layer의 학습된 파라미터를 받아 다음 Layer에 전달해야 합니다<br>이 경우, 이전 Layer에서 학습한 효과적인 파라미터가 사라질 수 있습니다.<br>반면 Residual Connection은 강제로 업데이트해야하는 상황을 막아 효과적인 Gradient를 유지하게 만들어줍니다"
      ]
    },
    {
      "cell_type": "markdown",
      "metadata": {
        "id": "4h2Izk8uWJkj"
      },
      "source": [
        "## 3) Residual Block 변형\n",
        "\n",
        "<img src = 'https://d2l.ai/_images/resnet-block.svg' width = '500px'>\n",
        "\n",
        "Residual Connection에 전달할 때 1x1 Conv Layer를 통과\n",
        "> Channel의 크기 조정<br>1x1 Conv Layer는 MLP와 동일한 효과가 있으나, 적은 파라미터, Non-Linearity, 채널 수 변경이 가능<br>따라서, Residual Block 내부에서 Channel의 수를 줄여도 1x1 Conv를 이용하여 output size를 맞춰줄 수 있음"
      ]
    },
    {
      "cell_type": "markdown",
      "metadata": {
        "id": "Yt21V3HhWz3l"
      },
      "source": [
        "## 4) ResNet\n",
        "\n",
        "<img src = 'https://d2l.ai/_images/resnet18.svg' height = '600px'>\n"
      ]
    },
    {
      "cell_type": "markdown",
      "metadata": {
        "id": "G8S_Bt8CXeEw"
      },
      "source": [
        "## 5) 구현"
      ]
    },
    {
      "cell_type": "markdown",
      "metadata": {
        "id": "BAoIukGzYF03"
      },
      "source": [
        "Residual Block"
      ]
    },
    {
      "cell_type": "code",
      "execution_count": null,
      "metadata": {
        "id": "6MOJMQhzYH36"
      },
      "outputs": [],
      "source": [
        "class Residual(nn.Module):  \n",
        "    def __init__(self, input_channels, num_channels,\n",
        "                 use_1x1conv=False, strides=1):\n",
        "        super().__init__()\n",
        "        self.conv1 = nn.Conv2d(input_channels, num_channels,                    # Conv2d(in, out, 3, 1, stride)\n",
        "                               kernel_size=3, padding=1, stride=strides)        # Conv2d(in, out, 3, 1)\n",
        "        self.conv2 = nn.Conv2d(num_channels, num_channels,\n",
        "                               kernel_size=3, padding=1)\n",
        "        if use_1x1conv:\n",
        "            self.conv3 = nn.Conv2d(input_channels, num_channels,                # 1x1 Conv2d(in, out, 1, stride)\n",
        "                                   kernel_size=1, stride=strides)\n",
        "        else:\n",
        "            self.conv3 = None\n",
        "        self.bn1 = nn.BatchNorm2d(num_channels)               \n",
        "        self.bn2 = nn.BatchNorm2d(num_channels)\n",
        "\n",
        "    def forward(self, X):\n",
        "        Y = F.relu(self.bn1(self.conv1(X)))                                     # Conv1 -> Batch Norm -> ReLU\n",
        "        Y = self.bn2(self.conv2(Y))                                             # Conv2 -> Batch Norm\n",
        "        if self.conv3:                                                          # if true) Conv2 -> Conv3\n",
        "            X = self.conv3(X)\n",
        "        Y += X                                                                  # Residual Connection\n",
        "        return F.relu(Y)"
      ]
    },
    {
      "cell_type": "markdown",
      "metadata": {
        "id": "yWlFv5cfYpGr"
      },
      "source": [
        "ResNet Block"
      ]
    },
    {
      "cell_type": "code",
      "execution_count": null,
      "metadata": {
        "id": "5jHsDe3mYw93"
      },
      "outputs": [],
      "source": [
        "def resnet_block(input_channels, num_channels, num_residuals,\n",
        "                 first_block=False):\n",
        "    blk = []\n",
        "    for i in range(num_residuals):\n",
        "        if i == 0 and not first_block:\n",
        "            blk.append(Residual(input_channels, num_channels,\n",
        "                                use_1x1conv=True, strides=2))\n",
        "        else:\n",
        "            blk.append(Residual(num_channels, num_channels))\n",
        "    return blk"
      ]
    },
    {
      "cell_type": "markdown",
      "metadata": {
        "id": "ytOvEe85aMvb"
      },
      "source": [
        "ResNet18"
      ]
    },
    {
      "cell_type": "code",
      "execution_count": null,
      "metadata": {
        "colab": {
          "base_uri": "https://localhost:8080/",
          "height": 530
        },
        "id": "W5q_hCoTY3NO",
        "outputId": "aa64a37f-0d01-49e0-b651-3cd94f4318a4"
      },
      "outputs": [
        {
          "data": {
            "image/png": "[encoded data removed]",
            "text/plain": [
              "<Figure size 432x288 with 1 Axes>"
            ]
          },
          "metadata": {},
          "output_type": "display_data"
        },
        {
          "name": "stdout",
          "output_type": "stream",
          "text": [
            "\r[EPOCH 10/10] [Train Loss : 0.000095] [Train Accuracy : 99.200000] [Test  Loss : 0.001424] [Test  Accuracy : 91.690000]"
          ]
        },
        {
          "data": {
            "image/png": "[encoded data removed]",
            "text/plain": [
              "<Figure size 432x288 with 1 Axes>"
            ]
          },
          "metadata": {
            "needs_background": "light"
          },
          "output_type": "display_data"
        }
      ],
      "source": [
        "b1 = nn.Sequential(nn.Conv2d(1, 64, kernel_size=7, stride=2, padding=3),\n",
        "                   nn.BatchNorm2d(64), nn.ReLU(),\n",
        "                   nn.MaxPool2d(kernel_size=3, stride=2, padding=1))\n",
        "b2 = nn.Sequential(*resnet_block(64, 64, 2, first_block=True))\n",
        "b3 = nn.Sequential(*resnet_block(64, 128, 2))\n",
        "b4 = nn.Sequential(*resnet_block(128, 256, 2))\n",
        "b5 = nn.Sequential(*resnet_block(256, 512, 2))\n",
        "\n",
        "model = nn.Sequential(b1, b2, b3, b4, b5,\n",
        "                    nn.AdaptiveAvgPool2d((1,1)),\n",
        "                    nn.Flatten(), nn.Linear(512, 10)).to(device)\n",
        "\n",
        "model = initialize_weights(model)\n",
        "\n",
        "num_epochs = 10\n",
        "learning_rate = 0.1\n",
        "optimizer = optim.SGD(model.parameters(), lr = learning_rate)\n",
        "criterion = nn.CrossEntropyLoss()\n",
        "\n",
        "model = Chapter7_Training(model, dataloaders, criterion, optimizer, num_epochs)"
      ]
    },
    {
      "cell_type": "markdown",
      "metadata": {
        "id": "yiwT-Rs0K2DF"
      },
      "source": [
        "# 7.7 DenseNet (2016.08 on Arxiv)"
      ]
    },
    {
      "cell_type": "markdown",
      "metadata": {
        "id": "KdxcQvcnaXKn"
      },
      "source": [
        "## 1) ResNet to DenseNet\n",
        "\n",
        "테일러 급수\n",
        "$$ f(x) = f(0) + f'(0) x + \\frac{f''(0)}{2!}  x^2 + \\frac{f'''(0)}{3!}  x^3 + \\ldots.$$\n",
        "\n",
        "ResNet의 관점에서 해석 : f(x) = x + g(x)\n",
        "\n",
        "> x와 g(x) 사이의 관계도 반영할 수 없을까?\n",
        "\n",
        "<img src = 'https://d2l.ai/_images/densenet-block.svg' width = '500px'>\n",
        "\n",
        "> Residual Block에서는 Add를 해주었다면, DenseNet은 Concatenate 활용\n",
        "<img src = 'https://d2l.ai/_images/densenet.svg' width = '500px'>"
      ]
    },
    {
      "cell_type": "markdown",
      "metadata": {
        "id": "Ag6xLbjBcaWk"
      },
      "source": [
        "## 3) Transition Layers"
      ]
    },
    {
      "cell_type": "markdown",
      "metadata": {
        "id": "7Up8M2flcd9L"
      },
      "source": [
        "계속해서 Concatenate하면, Channel의 수가 너무 커진다.\n",
        "> 1x1 Conv Layer를 이용하여 Channel의 수를 줄여주자.\n",
        "\n",
        "이미지의 크기를 줄여주기 위한 방법\n",
        "> AveragePooling(kernel_size = 2, stride = 2) => 이미지 크기를 1/4으로 줄임"
      ]
    },
    {
      "cell_type": "markdown",
      "metadata": {
        "id": "WaBYRI7DcAm1"
      },
      "source": [
        "## 2) 구현"
      ]
    },
    {
      "cell_type": "markdown",
      "metadata": {
        "id": "WksksHnncFiu"
      },
      "source": [
        "Convolutional Block"
      ]
    },
    {
      "cell_type": "code",
      "execution_count": null,
      "metadata": {
        "id": "DsmXo_7_K3CJ"
      },
      "outputs": [],
      "source": [
        "def conv_block(input_channels, num_channels):\n",
        "    return nn.Sequential(\n",
        "        nn.BatchNorm2d(input_channels), nn.ReLU(),\n",
        "        nn.Conv2d(input_channels, num_channels, kernel_size=3, padding=1))"
      ]
    },
    {
      "cell_type": "markdown",
      "metadata": {
        "id": "fAHirw0QcG4I"
      },
      "source": [
        "Dense Block"
      ]
    },
    {
      "cell_type": "code",
      "execution_count": null,
      "metadata": {
        "id": "ie08_fihcIJj"
      },
      "outputs": [],
      "source": [
        "class DenseBlock(nn.Module):\n",
        "    def __init__(self, num_convs, input_channels, num_channels):\n",
        "        super(DenseBlock, self).__init__()                                      # \n",
        "        layer = []\n",
        "        for i in range(num_convs):                                              # Block 01 : num_convs = 4, num_channels = 32, input_channels = 64\n",
        "            layer.append(conv_block(                                            # NUM 1 : Conv2d(32 * 0 + 64, 64) -> concat([32, 64])\n",
        "                num_channels * i + input_channels, num_channels))               # NUM 2 : Conv2d(32 * 1 + 64, 64) -> concat([96, 64])\n",
        "        self.net = nn.Sequential(*layer)                                        # NUM 3 : Conv2d(32 * 2 + 64, 64) -> concat([128, 64])\n",
        "                                                                                # NUM 4 : Conv2d(32 * 3 + 64, 64) -< concat([160, 64])\n",
        "    def forward(self, X):                                                       \n",
        "        for blk in self.net:\n",
        "            Y = blk(X)\n",
        "            X = torch.cat((X, Y), dim=1)  \n",
        "        return X                                                                # (224, 96, 96) (C,H,W)"
      ]
    },
    {
      "cell_type": "markdown",
      "metadata": {
        "id": "yGGvTMATcQiN"
      },
      "source": [
        "Transition Block"
      ]
    },
    {
      "cell_type": "code",
      "execution_count": null,
      "metadata": {
        "id": "aXuW8LwocYHN"
      },
      "outputs": [],
      "source": [
        "def transition_block(input_channels, num_channels):\n",
        "    return nn.Sequential(\n",
        "        nn.BatchNorm2d(input_channels), nn.ReLU(),\n",
        "        nn.Conv2d(input_channels, num_channels, kernel_size=1),\n",
        "        nn.AvgPool2d(kernel_size=2, stride=2))"
      ]
    },
    {
      "cell_type": "markdown",
      "metadata": {
        "id": "cJMJTA9ydFHA"
      },
      "source": [
        "DenseNet"
      ]
    },
    {
      "cell_type": "code",
      "execution_count": null,
      "metadata": {
        "colab": {
          "base_uri": "https://localhost:8080/",
          "height": 530
        },
        "id": "LX7qCoOtdEmx",
        "outputId": "50dc9b98-559b-4457-806f-fbc6568ffcb8"
      },
      "outputs": [
        {
          "data": {
            "image/png": "[encoded data removed]",
            "text/plain": [
              "<Figure size 432x288 with 1 Axes>"
            ]
          },
          "metadata": {},
          "output_type": "display_data"
        },
        {
          "name": "stdout",
          "output_type": "stream",
          "text": [
            "\r[EPOCH 10/10] [Train Loss : 0.000509] [Train Accuracy : 95.221667] [Test  Loss : 0.002707] [Test  Accuracy : 77.230000]"
          ]
        },
        {
          "data": {
            "image/png": "[encoded data removed]",
            "text/plain": [
              "<Figure size 432x288 with 1 Axes>"
            ]
          },
          "metadata": {
            "needs_background": "light"
          },
          "output_type": "display_data"
        }
      ],
      "source": [
        "b1 = nn.Sequential(\n",
        "    nn.Conv2d(1, 64, kernel_size=7, stride=2, padding=3),                       # \n",
        "    nn.BatchNorm2d(64), nn.ReLU(),\n",
        "    nn.MaxPool2d(kernel_size=3, stride=2, padding=1)).to(device)\n",
        "\n",
        "num_channels, growth_rate = 64, 32\n",
        "num_convs_in_dense_blocks = [4, 4, 4, 4]\n",
        "blks = []\n",
        "for i, num_convs in enumerate(num_convs_in_dense_blocks):\n",
        "    blks.append(DenseBlock(num_convs, num_channels, growth_rate))               \n",
        "    num_channels += num_convs * growth_rate                                     # 64 + 96 =  160\n",
        "    if i != len(num_convs_in_dense_blocks) - 1:                                 # 마지막 Layer가 아니라면,\n",
        "        blks.append(transition_block(num_channels, num_channels // 2))          # Transition Block을 이용하여 Image의 사이즈와 Channel의 수를 줄인다.\n",
        "        num_channels = num_channels // 2                                        # 채널의 수를 절반으로 감소\n",
        " \n",
        "\n",
        "model = nn.Sequential(\n",
        "    b1, *blks,\n",
        "    nn.BatchNorm2d(num_channels), nn.ReLU(),\n",
        "    nn.AdaptiveAvgPool2d((1, 1)),\n",
        "    nn.Flatten(),\n",
        "    nn.Linear(num_channels, 10)).to(device)\n",
        "\n",
        "\n",
        "num_epochs = 10\n",
        "learning_rate = 0.1\n",
        "optimizer = optim.SGD(model.parameters(), lr = learning_rate)\n",
        "criterion = nn.CrossEntropyLoss()\n",
        "\n",
        "model = Chapter7_Training(model, dataloaders, criterion, optimizer, num_epochs)"
      ]
    },
    {
      "cell_type": "code",
      "execution_count": null,
      "metadata": {
        "colab": {
          "base_uri": "https://localhost:8080/"
        },
        "id": "XhYRNGH4n_pm",
        "outputId": "abce1458-b99e-4699-9898-c5b0cdfad98f"
      },
      "outputs": [
        {
          "name": "stdout",
          "output_type": "stream",
          "text": [
            "----------------------------------------------------------------\n",
            "        Layer (type)               Output Shape         Param #\n",
            "================================================================\n",
            "            Conv2d-1           [-1, 64, 48, 48]           3,200\n",
            "       BatchNorm2d-2           [-1, 64, 48, 48]             128\n",
            "              ReLU-3           [-1, 64, 48, 48]               0\n",
            "         MaxPool2d-4           [-1, 64, 24, 24]               0\n",
            "       BatchNorm2d-5           [-1, 64, 24, 24]             128\n",
            "              ReLU-6           [-1, 64, 24, 24]               0\n",
            "            Conv2d-7           [-1, 32, 24, 24]          18,464\n",
            "       BatchNorm2d-8           [-1, 96, 24, 24]             192\n",
            "              ReLU-9           [-1, 96, 24, 24]               0\n",
            "           Conv2d-10           [-1, 32, 24, 24]          27,680\n",
            "      BatchNorm2d-11          [-1, 128, 24, 24]             256\n",
            "             ReLU-12          [-1, 128, 24, 24]               0\n",
            "           Conv2d-13           [-1, 32, 24, 24]          36,896\n",
            "      BatchNorm2d-14          [-1, 160, 24, 24]             320\n",
            "             ReLU-15          [-1, 160, 24, 24]               0\n",
            "           Conv2d-16           [-1, 32, 24, 24]          46,112\n",
            "       DenseBlock-17          [-1, 192, 24, 24]               0\n",
            "      BatchNorm2d-18          [-1, 192, 24, 24]             384\n",
            "             ReLU-19          [-1, 192, 24, 24]               0\n",
            "           Conv2d-20           [-1, 96, 24, 24]          18,528\n",
            "        AvgPool2d-21           [-1, 96, 12, 12]               0\n",
            "      BatchNorm2d-22           [-1, 96, 12, 12]             192\n",
            "             ReLU-23           [-1, 96, 12, 12]               0\n",
            "           Conv2d-24           [-1, 32, 12, 12]          27,680\n",
            "      BatchNorm2d-25          [-1, 128, 12, 12]             256\n",
            "             ReLU-26          [-1, 128, 12, 12]               0\n",
            "           Conv2d-27           [-1, 32, 12, 12]          36,896\n",
            "      BatchNorm2d-28          [-1, 160, 12, 12]             320\n",
            "             ReLU-29          [-1, 160, 12, 12]               0\n",
            "           Conv2d-30           [-1, 32, 12, 12]          46,112\n",
            "      BatchNorm2d-31          [-1, 192, 12, 12]             384\n",
            "             ReLU-32          [-1, 192, 12, 12]               0\n",
            "           Conv2d-33           [-1, 32, 12, 12]          55,328\n",
            "       DenseBlock-34          [-1, 224, 12, 12]               0\n",
            "      BatchNorm2d-35          [-1, 224, 12, 12]             448\n",
            "             ReLU-36          [-1, 224, 12, 12]               0\n",
            "           Conv2d-37          [-1, 112, 12, 12]          25,200\n",
            "        AvgPool2d-38            [-1, 112, 6, 6]               0\n",
            "      BatchNorm2d-39            [-1, 112, 6, 6]             224\n",
            "             ReLU-40            [-1, 112, 6, 6]               0\n",
            "           Conv2d-41             [-1, 32, 6, 6]          32,288\n",
            "      BatchNorm2d-42            [-1, 144, 6, 6]             288\n",
            "             ReLU-43            [-1, 144, 6, 6]               0\n",
            "           Conv2d-44             [-1, 32, 6, 6]          41,504\n",
            "      BatchNorm2d-45            [-1, 176, 6, 6]             352\n",
            "             ReLU-46            [-1, 176, 6, 6]               0\n",
            "           Conv2d-47             [-1, 32, 6, 6]          50,720\n",
            "      BatchNorm2d-48            [-1, 208, 6, 6]             416\n",
            "             ReLU-49            [-1, 208, 6, 6]               0\n",
            "           Conv2d-50             [-1, 32, 6, 6]          59,936\n",
            "       DenseBlock-51            [-1, 240, 6, 6]               0\n",
            "      BatchNorm2d-52            [-1, 240, 6, 6]             480\n",
            "             ReLU-53            [-1, 240, 6, 6]               0\n",
            "           Conv2d-54            [-1, 120, 6, 6]          28,920\n",
            "        AvgPool2d-55            [-1, 120, 3, 3]               0\n",
            "      BatchNorm2d-56            [-1, 120, 3, 3]             240\n",
            "             ReLU-57            [-1, 120, 3, 3]               0\n",
            "           Conv2d-58             [-1, 32, 3, 3]          34,592\n",
            "      BatchNorm2d-59            [-1, 152, 3, 3]             304\n",
            "             ReLU-60            [-1, 152, 3, 3]               0\n",
            "           Conv2d-61             [-1, 32, 3, 3]          43,808\n",
            "      BatchNorm2d-62            [-1, 184, 3, 3]             368\n",
            "             ReLU-63            [-1, 184, 3, 3]               0\n",
            "           Conv2d-64             [-1, 32, 3, 3]          53,024\n",
            "      BatchNorm2d-65            [-1, 216, 3, 3]             432\n",
            "             ReLU-66            [-1, 216, 3, 3]               0\n",
            "           Conv2d-67             [-1, 32, 3, 3]          62,240\n",
            "       DenseBlock-68            [-1, 248, 3, 3]               0\n",
            "      BatchNorm2d-69            [-1, 248, 3, 3]             496\n",
            "             ReLU-70            [-1, 248, 3, 3]               0\n",
            "AdaptiveAvgPool2d-71            [-1, 248, 1, 1]               0\n",
            "          Flatten-72                  [-1, 248]               0\n",
            "           Linear-73                   [-1, 10]           2,490\n",
            "================================================================\n",
            "Total params: 758,226\n",
            "Trainable params: 758,226\n",
            "Non-trainable params: 0\n",
            "----------------------------------------------------------------\n",
            "Input size (MB): 0.04\n",
            "Forward/backward pass size (MB): 14.29\n",
            "Params size (MB): 2.89\n",
            "Estimated Total Size (MB): 17.22\n",
            "----------------------------------------------------------------\n"
          ]
        }
      ],
      "source": [
        "# pip install torchsummary\n",
        "from torchsummary import summary\n",
        "\n",
        "summary(model, input_size=(1, 96, 96))"
      ]
    },
    {
      "cell_type": "code",
      "execution_count": null,
      "metadata": {
        "id": "LanvC5lyoVIc"
      },
      "outputs": [],
      "source": []
    }
  ],
  "metadata": {
    "accelerator": "GPU",
    "colab": {
      "collapsed_sections": [],
      "name": "Book Reading Chapter 7 Part2.ipynb",
      "provenance": []
    },
    "gpuClass": "standard",
    "kernelspec": {
      "display_name": "Python 3.9.12 64-bit",
      "language": "python",
      "name": "python3"
    },
    "language_info": {
      "codemirror_mode": {
        "name": "ipython",
        "version": 3
      },
      "file_extension": ".py",
      "mimetype": "text/x-python",
      "name": "python",
      "nbconvert_exporter": "python",
      "pygments_lexer": "ipython3",
      "version": "3.9.12"
    },
    "vscode": {
      "interpreter": {
        "hash": "b0fa6594d8f4cbf19f97940f81e996739fb7646882a419484c72d19e05852a7e"
      }
    }
  },
  "nbformat": 4,
  "nbformat_minor": 0
}
